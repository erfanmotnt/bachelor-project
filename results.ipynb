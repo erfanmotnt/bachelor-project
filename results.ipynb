{
 "cells": [
  {
   "cell_type": "code",
   "execution_count": 34,
   "metadata": {},
   "outputs": [],
   "source": [
    "import os\n",
    "import pickle\n",
    "import pandas as pd\n",
    "root= \"results/\"\n",
    "all_resuls = os.listdir(root)"
   ]
  },
  {
   "cell_type": "code",
   "execution_count": 35,
   "metadata": {},
   "outputs": [],
   "source": [
    "out = {}\n",
    "for result_file in all_resuls:\n",
    "    try:\n",
    "        model, dataset, entity = result_file[:-4].split(' ')\n",
    "    except:\n",
    "        model, dataset, _, _ = result_file[:-4].split(' ')\n",
    "        entity = ''\n",
    "    with open(root+result_file, 'rb') as handle:\n",
    "        result = pickle.load(handle) \n",
    "    if model not in out.keys():\n",
    "        out[model] = {}\n",
    "    if (dataset,entity) not in out[model].keys():\n",
    "        out[model][(dataset,entity)] = {}\n",
    "    out[model][(dataset,entity)] = result['roc-auc']"
   ]
  },
  {
   "cell_type": "code",
   "execution_count": 36,
   "metadata": {},
   "outputs": [],
   "source": [
    "(pd.DataFrame(out) *100).sort_index().to_excel(\"other_results/results.xlsx\")"
   ]
  }
 ],
 "metadata": {
  "kernelspec": {
   "display_name": "Python 3",
   "language": "python",
   "name": "python3"
  },
  "language_info": {
   "codemirror_mode": {
    "name": "ipython",
    "version": 3
   },
   "file_extension": ".py",
   "mimetype": "text/x-python",
   "name": "python",
   "nbconvert_exporter": "python",
   "pygments_lexer": "ipython3",
   "version": "3.8.10"
  },
  "orig_nbformat": 4
 },
 "nbformat": 4,
 "nbformat_minor": 2
}
