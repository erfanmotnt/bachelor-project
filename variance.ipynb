{
 "cells": [
  {
   "cell_type": "code",
   "execution_count": 56,
   "metadata": {},
   "outputs": [],
   "source": [
    "import pandas as pd\n",
    "import numpy as np\n",
    "\n",
    "data_total = pd.DataFrame()\n",
    "for i in range(3):\n",
    "    data = pd.read_csv(f\"other_results/results{i}.csv\")\n",
    "    data = data.rename(columns={'Unnamed: 0': 'dataset', 'Unnamed: 1': 'entity'})\n",
    "    data_total = pd.concat([data_total, data], axis=0)\n",
    "data_total.set_index(['dataset', 'entity'], inplace=True)"
   ]
  },
  {
   "cell_type": "code",
   "execution_count": 67,
   "metadata": {},
   "outputs": [],
   "source": [
    "data_means = np.round(data_total.groupby(['dataset', 'entity']).agg(list).applymap(np.mean), 2)"
   ]
  },
  {
   "cell_type": "code",
   "execution_count": 68,
   "metadata": {},
   "outputs": [],
   "source": [
    "data_stds = np.round(data_total.groupby(['dataset', 'entity']).agg(list).applymap(np.std), 2)"
   ]
  },
  {
   "cell_type": "code",
   "execution_count": 77,
   "metadata": {},
   "outputs": [],
   "source": [
    "pd.concat([data_means, data_stds], axis=1).T.sort_index().T.to_excel(\"other_results/std_results.xlsx\")"
   ]
  }
 ],
 "metadata": {
  "kernelspec": {
   "display_name": "Python 3",
   "language": "python",
   "name": "python3"
  },
  "language_info": {
   "codemirror_mode": {
    "name": "ipython",
    "version": 3
   },
   "file_extension": ".py",
   "mimetype": "text/x-python",
   "name": "python",
   "nbconvert_exporter": "python",
   "pygments_lexer": "ipython3",
   "version": "3.8.10"
  },
  "orig_nbformat": 4
 },
 "nbformat": 4,
 "nbformat_minor": 2
}
