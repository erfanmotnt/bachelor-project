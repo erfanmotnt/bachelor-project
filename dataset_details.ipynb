{
 "cells": [
  {
   "cell_type": "code",
   "execution_count": 41,
   "metadata": {},
   "outputs": [],
   "source": [
    "import os\n",
    "import pandas as pd\n",
    "\n",
    "datasets = [\"SMD\", \"SMAP\", \"MSL\", \"UCR\", \"SWaT\", \"WADI\"]\n",
    "root = 'processed/'\n",
    "import numpy as np\n",
    "res = {}\n",
    "for dataset in datasets:\n",
    "    res[dataset] = {}\n",
    "    all_files = os.listdir(root + dataset)\n",
    "    entities = []\n",
    "    for file in all_files:\n",
    "        if file[-9:] == 'train.npy':\n",
    "            entities.append(file[:-10])\n",
    "    res[dataset]['entity'] = len(entities)\n",
    "    total_size = 0\n",
    "    dims = set()\n",
    "    for file in all_files:\n",
    "        if file[-9:] == 'train.npy':\n",
    "            size = np.load(root+dataset+'/'+file).shape[0]\n",
    "            dim = np.load(root+dataset+'/'+file).shape[1]\n",
    "            total_size += size\n",
    "            dims.add(dim)\n",
    "\n",
    "    res[dataset]['train_size'] = total_size\n",
    "    res[dataset]['dim'] = dims.pop()\n",
    "    \n",
    "    total_size = 0\n",
    "    for file in all_files:\n",
    "        if file[-8:] == 'test.npy':\n",
    "            size = np.load(root+dataset+'/'+file).shape[0]\n",
    "            total_size += size\n",
    "    res[dataset]['test_size'] = total_size\n",
    "\n",
    "    total_size = 0\n",
    "    for file in all_files:\n",
    "        if file[-10:] == 'labels.npy':\n",
    "            labels = np.load(root+dataset+'/'+file)\n",
    "            labelsFinal = (np.sum(labels, axis=1) >= 1) + 0\n",
    "            total_size += labelsFinal.sum()\n",
    "    res[dataset]['label_rate'] = round(total_size / res[dataset]['test_size'] * 100, 2)\n",
    "\n",
    "df = pd.DataFrame(res).T\n",
    "df.index.name = 'dataset'\n",
    "df[['entity', 'dim', 'train_size', 'test_size', 'label_rate']].sort_index().to_excel(\"other_results/datasets_info.xlsx\")"
   ]
  }
 ],
 "metadata": {
  "kernelspec": {
   "display_name": "Python 3",
   "language": "python",
   "name": "python3"
  },
  "language_info": {
   "codemirror_mode": {
    "name": "ipython",
    "version": 3
   },
   "file_extension": ".py",
   "mimetype": "text/x-python",
   "name": "python",
   "nbconvert_exporter": "python",
   "pygments_lexer": "ipython3",
   "version": "3.8.10"
  },
  "orig_nbformat": 4
 },
 "nbformat": 4,
 "nbformat_minor": 2
}
